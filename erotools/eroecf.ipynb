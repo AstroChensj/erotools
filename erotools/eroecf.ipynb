{
 "cells": [
  {
   "cell_type": "code",
   "execution_count": 1,
   "metadata": {},
   "outputs": [],
   "source": [
    "import numpy as np\n",
    "from astropy.io import fits\n",
    "import os\n",
    "import sys\n",
    "from xspec import *\n",
    "\n",
    "default_ARF = 'onaxis_tm0_arf_filter_2023-01-17.fits.gz'\n",
    "default_RMF = 'onaxis_tm0_rmf_2023-01-17.fits.gz'\n",
    "\n",
    "Gamma = 2.0\n",
    "logNH = 0\n",
    "\n",
    "Xset.chatter = 0\n",
    "Xset.abund = 'wilm'\n",
    "\n",
    "elo_rate = 2.3\n",
    "ehi_rate = 5.0\n",
    "elo_flux = 2.3\n",
    "ehi_flux = 5.0\n",
    "\n",
    "elo_rate = '{:.2f}'.format(elo_rate)\n",
    "ehi_rate = '{:.2f}'.format(ehi_rate)\n",
    "elo_flux = '{:.2f}'.format(elo_flux)\n",
    "ehi_flux = '{:.2f}'.format(ehi_flux)"
   ]
  },
  {
   "cell_type": "code",
   "execution_count": 6,
   "metadata": {},
   "outputs": [
    {
     "name": "stdout",
     "output_type": "stream",
     "text": [
      "2.936148236510815e-09\n"
     ]
    }
   ],
   "source": [
    "elo_rate = 0.2\n",
    "ehi_rate = 2.3\n",
    "elo_flux = 0.4\n",
    "ehi_flux = 2.5\n",
    "\n",
    "elo_rate = '{:.2f}'.format(elo_rate)\n",
    "ehi_rate = '{:.2f}'.format(ehi_rate)\n",
    "elo_flux = '{:.2f}'.format(elo_flux)\n",
    "ehi_flux = '{:.2f}'.format(ehi_flux)\n",
    "Xset.chatter = 0\n",
    "Xset.abund = \"wilm\"\n",
    "xmodel = \"TBabs*powerlaw\"\n",
    "# set model\n",
    "AllModels.clear()\n",
    "m1 = Model(xmodel)\n",
    "m1.TBabs.nH.values = logNH\n",
    "m1.powerlaw.PhoIndex.values = Gamma\n",
    "# calculate model flux\n",
    "AllModels.calcFlux('%s %s'%(elo_flux,ehi_flux))\n",
    "AllModels.show()\n",
    "flux = AllModels(1).flux[0]     # (value, errLow, errHigh (in ergs/cm^2/s), value, errLow, errHigh (in photons/cm^2/s))\n",
    "print(flux)"
   ]
  },
  {
   "cell_type": "code",
   "execution_count": 20,
   "metadata": {},
   "outputs": [
    {
     "name": "stdout",
     "output_type": "stream",
     "text": [
      "2.1530161592531903e-09\n",
      "2358.258084179696\n",
      "(2356.929999999998, 4.85482234484435, 2356.929999999998, 2358.258084179696)\n",
      "(2.1530161592531903e-09, 0.0, 0.0, 1.231953317449142, 0.0, 0.0)\n",
      "12.039544042497193\n"
     ]
    }
   ],
   "source": [
    "elo_rate = 0.6\n",
    "ehi_rate = 2.3\n",
    "elo_flux = 0.6\n",
    "ehi_flux = 2.3\n",
    "\n",
    "elo_rate = '{:.2f}'.format(elo_rate)\n",
    "ehi_rate = '{:.2f}'.format(ehi_rate)\n",
    "elo_flux = '{:.2f}'.format(elo_flux)\n",
    "ehi_flux = '{:.2f}'.format(ehi_flux)\n",
    "Xset.chatter = 0\n",
    "Xset.abund = \"wilm\"\n",
    "xmodel = \"TBabs*powerlaw\"\n",
    "# set model\n",
    "AllModels.clear()\n",
    "m1 = Model(xmodel)\n",
    "m1.TBabs.nH.values = logNH\n",
    "m1.powerlaw.PhoIndex.values = Gamma\n",
    "AllData.fakeit(1,FakeitSettings(response=default_RMF,arf=default_ARF,exposure=100),noWrite=True)\n",
    "AllData.ignore(\"0.-%s %s-**\"%(elo_rate,ehi_rate))\n",
    "# calculate model flux\n",
    "AllModels.calcFlux('%s %s'%(elo_flux,ehi_flux))\n",
    "# AllModels.calcFlux('%s %s'%(1,2))\n",
    "# AllModels.show()\n",
    "rate = AllData(1).rate[3]\n",
    "flux = AllData(1).flux[0]     # (value, errLow, errHigh (in ergs/cm^2/s), value, errLow, errHigh (in photons/cm^2/s))\n",
    "print(flux)\n",
    "print(rate)\n",
    "print(AllData(1).rate)\n",
    "print(AllData(1).flux)\n",
    "# calculate count rate\n",
    "# AllData.clear()\n",
    "\n",
    "# rate = AllData(1).rate[3]       # (current net rate, net rate uncertainty, total rate, predicted model rate)\n",
    "\n",
    "ECF = rate / flux\n",
    "print(np.log10(ECF))"
   ]
  },
  {
   "cell_type": "code",
   "execution_count": 12,
   "metadata": {},
   "outputs": [
    {
     "name": "stdout",
     "output_type": "stream",
     "text": [
      "\n",
      "Parameters defined:\n",
      "========================================================================\n",
      "Model TBabs<1>*powerlaw<2> Source No.: 1   Active/On\n",
      "Model Model Component  Parameter  Unit     Value\n",
      " par  comp\n",
      "   1    1   TBabs      nH         10^22    0.0          +/-  0.0          \n",
      "   2    2   powerlaw   PhoIndex            2.00000      +/-  0.0          \n",
      "   3    2   powerlaw   norm                1.00000      +/-  0.0          \n",
      "________________________________________________________________________\n",
      "\n",
      " Model Flux    4.5655 photons (3.9133e-09 ergs/cm^2/s) range (0.20000 - 2.3000 keV)\n"
     ]
    },
    {
     "data": {
      "text/plain": [
       "(0.0, 0.0, 0.0, 0.0, 0.0, 0.0)"
      ]
     },
     "execution_count": 12,
     "metadata": {},
     "output_type": "execute_result"
    }
   ],
   "source": [
    "Xset.chatter = 10\n",
    "AllModels.show()\n",
    "AllModels.calcFlux('0.2 2.3')\n",
    "AllModels(1).flux"
   ]
  },
  {
   "cell_type": "code",
   "execution_count": 21,
   "metadata": {},
   "outputs": [
    {
     "name": "stdout",
     "output_type": "stream",
     "text": [
      " Model Flux    4.5836 photons (3.9815e-09 ergs/cm^2/s) range (0.20000 - 2.4000 keV)\n",
      "\n",
      "Parameters defined:\n",
      "========================================================================\n",
      "Model TBabs<1>*powerlaw<2> Source No.: 1   Active/On\n",
      "Model Model Component  Parameter  Unit     Value\n",
      " par  comp\n",
      "   1    1   TBabs      nH         10^22    0.0          +/-  0.0          \n",
      "   2    2   powerlaw   PhoIndex            2.00000      +/-  0.0          \n",
      "   3    2   powerlaw   norm                1.00000      +/-  0.0          \n",
      "________________________________________________________________________\n",
      "\n"
     ]
    }
   ],
   "source": [
    "AllModels.calcFlux('0.2 2.4')\n",
    "AllModels(1).flux\n",
    "AllModels.show()"
   ]
  },
  {
   "cell_type": "code",
   "execution_count": 3,
   "metadata": {},
   "outputs": [
    {
     "name": "stdout",
     "output_type": "stream",
     "text": [
      "(0.0, 0.0, 0.0, 0.0, 0.0, 0.0)\n",
      "(2364.229999999998, 4.862334830099632, 2364.229999999998, 2358.258084179696)\n"
     ]
    }
   ],
   "source": [
    "AllData.clear()\n",
    "AllData.fakeit(1,FakeitSettings(response=default_RMF,arf=default_ARF,exposure=100),noWrite=True)\n",
    "AllData.show()\n",
    "\n",
    "# calculate rate\n",
    "AllData.ignore(\"0.-%s %s-**\"%(elo_rate,ehi_rate))\n",
    "print(AllData(1).flux)\n",
    "print(AllData(1).rate)\n"
   ]
  },
  {
   "cell_type": "code",
   "execution_count": 7,
   "metadata": {},
   "outputs": [
    {
     "name": "stdout",
     "output_type": "stream",
     "text": [
      "12.039563099965251\n"
     ]
    }
   ],
   "source": [
    "ECF = AllData(1).rate[3] / AllModels(1).flux[0]\n",
    "print(np.log10(ECF))"
   ]
  },
  {
   "cell_type": "code",
   "execution_count": null,
   "metadata": {},
   "outputs": [],
   "source": []
  }
 ],
 "metadata": {
  "kernelspec": {
   "display_name": "Xstack",
   "language": "python",
   "name": "python3"
  },
  "language_info": {
   "codemirror_mode": {
    "name": "ipython",
    "version": 3
   },
   "file_extension": ".py",
   "mimetype": "text/x-python",
   "name": "python",
   "nbconvert_exporter": "python",
   "pygments_lexer": "ipython3",
   "version": "3.11.9"
  }
 },
 "nbformat": 4,
 "nbformat_minor": 2
}
